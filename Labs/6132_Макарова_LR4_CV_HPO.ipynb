{
  "cells": [
    {
      "cell_type": "code",
      "execution_count": 188,
      "metadata": {
        "id": "xH3x7nnCTr-5"
      },
      "outputs": [],
      "source": [
        "import numpy as np\n",
        "import os\n",
        "from sklearn.svm import SVC\n",
        "from sklearn.metrics import accuracy_score, confusion_matrix\n",
        "from sklearn.model_selection import KFold\n",
        "import numpy as np\n",
        "import itertools\n",
        "import time\n",
        "import random"
      ]
    },
    {
      "cell_type": "code",
      "execution_count": 189,
      "metadata": {
        "id": "tlTmRT1lTr-8"
      },
      "outputs": [],
      "source": [
        "def load_data(folder_path):\n",
        "    x_train = np.load(os.path.join(folder_path, 'x_train.npy'))\n",
        "    y_train = np.load(os.path.join(folder_path, 'y_train.npy'))\n",
        "    x_test = np.load(os.path.join(folder_path, 'x_test.npy'))\n",
        "    y_test = np.load(os.path.join(folder_path, 'y_test.npy'))\n",
        "    return x_train, y_train, x_test, y_test"
      ]
    },
    {
      "cell_type": "code",
      "execution_count": 190,
      "metadata": {
        "colab": {
          "base_uri": "https://localhost:8080/"
        },
        "id": "OnRnDQevTr--",
        "outputId": "becb2bd1-0c7d-4a25-aa60-4b5659e6fa69"
      },
      "outputs": [
        {
          "output_type": "stream",
          "name": "stdout",
          "text": [
            "Drive already mounted at /content/drive; to attempt to forcibly remount, call drive.mount(\"/content/drive\", force_remount=True).\n"
          ]
        }
      ],
      "source": [
        "from google.colab import drive\n",
        "drive.mount('/content/drive')\n",
        "x_train, y_train, x_test, y_test = load_data('/content/drive/MyDrive/lr4_dataset/')"
      ]
    },
    {
      "cell_type": "markdown",
      "metadata": {
        "id": "cSqjAYa5Tr-_"
      },
      "source": [
        "В данной лабораторной работе будет практиковаться поиск гиперпараметров. Буду рассмотрены алгоритмы поиска гиперпараметров: grid search, random search.\n",
        "\n",
        "Помимо поиска гиперпараметров будет рассмотрен алгоритм кросс-валидации, позволяющий получить более достоверную оценку качества модели в условиях недостатка данных.\n",
        "Хотя в работе предоставлена тестовая выборка, здесь она имеет сугубо теоретический характер (для получения финальной оценки) и на практике как правило недоступна. Поэтому во время подбора гиперпараметров используются лишь `x_train, y_train`. `x_test, y_test` используются лишь для получения финальной оценки, чтобы можно было видеть разницу между разными алгоритмами подбора гиперпараметров (если она будет).\n",
        "\n",
        "Выберите одну модель из списка: MLPClassifier, SGDClassifier, DecisionTreeClassifier, RandomForestClassifier, SVC.\n",
        "Для выбранной модели произведите поиск оптимальных гиперпараметров.\n",
        "\n",
        "**Требование**: поиск должен идти как минимум для двух гиперпараметров.\n",
        "\n",
        "**Требование**: в конструктор моделей передавайте `random_state=1` для воспроизводимости результатов."
      ]
    },
    {
      "cell_type": "markdown",
      "metadata": {
        "id": "e9Hxej_CTr_C"
      },
      "source": [
        "## 0. Обучение бейзлайн модели для проведения сравнения"
      ]
    },
    {
      "cell_type": "code",
      "execution_count": 191,
      "metadata": {
        "colab": {
          "base_uri": "https://localhost:8080/"
        },
        "id": "AMqvmueETr_D",
        "outputId": "2f29c1b1-36e2-4ea8-d6d0-e4af7e37adb8"
      },
      "outputs": [
        {
          "output_type": "stream",
          "name": "stdout",
          "text": [
            "Точность базовой модели: 0.7333333333333333\n",
            "Матрица ошибок базовой модели:\n",
            "[[3 0 0 0 0 0 0 0 0 0]\n",
            " [0 3 0 0 0 0 0 0 0 0]\n",
            " [0 0 2 1 0 0 0 0 0 0]\n",
            " [0 0 1 2 0 0 0 0 0 0]\n",
            " [0 0 0 0 3 0 0 0 0 0]\n",
            " [0 0 0 1 0 2 0 0 0 0]\n",
            " [1 0 0 0 0 0 2 0 0 0]\n",
            " [0 0 0 0 0 0 0 3 0 0]\n",
            " [0 0 1 0 0 1 0 0 1 0]\n",
            " [0 0 1 0 0 0 0 1 0 1]]\n"
          ]
        }
      ],
      "source": [
        "# Обучите базовую модель без изменения гиперпараметров (т.е. используются гиперпараметры по умолчанию).\n",
        "# Проанализируйте качество модели (accuracy, матрица ошибок).\n",
        "\n",
        "baseline_model = SVC(random_state=1)\n",
        "baseline_model.fit(x_train, y_train)\n",
        "\n",
        "y_pred = baseline_model.predict(x_test)\n",
        "\n",
        "accuracy = accuracy_score(y_test, y_pred)\n",
        "conf_matrix = confusion_matrix(y_test, y_pred)\n",
        "\n",
        "print(f\"Точность базовой модели: {accuracy}\")\n",
        "print(\"Матрица ошибок базовой модели:\")\n",
        "print(conf_matrix)"
      ]
    },
    {
      "cell_type": "markdown",
      "metadata": {
        "id": "A-qMZSV7Tr_E"
      },
      "source": [
        "## 1. K-Fold Cross-Validation"
      ]
    },
    {
      "cell_type": "code",
      "execution_count": 192,
      "metadata": {
        "id": "OaMZXEkdTr_E"
      },
      "outputs": [],
      "source": [
        "# Реализуйте фунцию кросс-валидации\n",
        "\n",
        "# Замечание: x_test, y_test не должны применятся в рамках данной функции.\n",
        "\n",
        "def kfold_cv(model_fn, eval_fn, x: np.ndarray, y: np.ndarray, n_splits=5) -> float:\n",
        "    \"\"\"\n",
        "    Parameters\n",
        "    ----------\n",
        "    model_fn : callable\n",
        "        Функция-фабрика, что конструирует и возвращает новый объект модели.\n",
        "        Например: `lambda: MLPClassifier(hidden_layer_sizes=(256,))`.\n",
        "    eval_fn : callable\n",
        "        Функция вида `eval_fn(labels, predictions)`, что возвращает скаляр (значение метрики).\n",
        "    x : np.ndarray\n",
        "        Набор признаков (размерность NxD, N - количество экземпляров, D - количество признаков).\n",
        "    y : np.ndarray\n",
        "        Набор меток (размерность N)\n",
        "    n_splits : int, optional\n",
        "        Количество фолдов (подвыборок), по умолчанию 5.\n",
        "\n",
        "    Returns\n",
        "    -------\n",
        "    float\n",
        "        Среднее значение метрики (что вычисляется eval_fn) по фолдам.\n",
        "    \"\"\"\n",
        "    kf = KFold(n_splits=n_splits, shuffle=True, random_state=1)\n",
        "    scores = []\n",
        "\n",
        "    for train_index, val_index in kf.split(x):\n",
        "        x_train, x_val = x[train_index], x[val_index]\n",
        "        y_train, y_val = y[train_index], y[val_index]\n",
        "        model = model_fn()\n",
        "        model.fit(x_train, y_train)\n",
        "        y_pred = model.predict(x_val)\n",
        "        metric_score = eval_fn(y_val, y_pred)\n",
        "        #print(metric_score)\n",
        "        scores.append(metric_score)\n",
        "    return np.mean(scores)"
      ]
    },
    {
      "cell_type": "code",
      "execution_count": 193,
      "metadata": {
        "colab": {
          "base_uri": "https://localhost:8080/"
        },
        "id": "aKzhnjUYTr_F",
        "outputId": "32871c96-9035-45d7-e1de-01ec8c57990f"
      },
      "outputs": [
        {
          "output_type": "stream",
          "name": "stdout",
          "text": [
            "Средняя точность по кросс-валидации: 0.5\n"
          ]
        }
      ],
      "source": [
        "# Убедитесь в корректности работы функции кросс-валидации.\n",
        "\n",
        "mean_score = kfold_cv(SVC, accuracy_score, x_train, y_train)\n",
        "print(f\"Средняя точность по кросс-валидации: {mean_score}\")"
      ]
    },
    {
      "cell_type": "markdown",
      "metadata": {
        "id": "vUEvlim2Tr_G"
      },
      "source": [
        "## 2. Grid search"
      ]
    },
    {
      "cell_type": "code",
      "execution_count": 194,
      "metadata": {
        "colab": {
          "base_uri": "https://localhost:8080/"
        },
        "id": "mfkMNfoHTr_H",
        "outputId": "ab478395-fd03-4f38-fbc9-f7c30cd3bc24"
      },
      "outputs": [
        {
          "output_type": "stream",
          "name": "stdout",
          "text": [
            "Лучшие гиперпараметры: {'C': 5, 'kernel': 'rbf', 'gamma': 'scale'}\n",
            "Лучшая точность: 0.5999999999999999\n",
            "Время выполнения: 0.51 секунд\n"
          ]
        }
      ],
      "source": [
        "# 1. Реализуйте алгоритм поиска гиперпараметров grid search.\n",
        "# 2. Запустите поиск гиперпараметров, замерьте время работы алгоритма.\n",
        "# 3. Выведите найденные значения гиперпараметров и время работы.\n",
        "# Замечание: x_test, y_test не должны применятся в рамках данного алгоритма.\n",
        "# Замечание: убедитесь, что гиперпараметры по умолчанию включены в пространство поиска.\n",
        "# Требование: используйте kfold_cv для получения значения метрики в рамках одной итерации поиска гиперпараметров.\n",
        "\n",
        "def grid_search(model_fn, param_grid, eval_fn, x: np.ndarray, y: np.ndarray, n_splits=5):\n",
        "    best_score = 0\n",
        "    best_params = None\n",
        "\n",
        "    param_names = list(param_grid.keys())\n",
        "    param_values = list(param_grid.values())\n",
        "    param_combinations = list(itertools.product(*param_values))\n",
        "\n",
        "    for param_set in param_combinations:\n",
        "        params = dict(zip(param_names, param_set))\n",
        "\n",
        "        def model_with_params():\n",
        "            return model_fn(**params)\n",
        "\n",
        "        score = kfold_cv(model_with_params, eval_fn, x, y, n_splits)\n",
        "\n",
        "        if score > best_score:\n",
        "            best_score = score\n",
        "            best_params = params\n",
        "\n",
        "    return best_params, best_score\n",
        "\n",
        "param_grid = {\n",
        "    'C': [0.1, 1, 5, 10],\n",
        "    'kernel': ['rbf', 'poly', 'linear'],\n",
        "    'gamma': ['scale', 'auto']\n",
        "}\n",
        "\n",
        "start_time = time.time()\n",
        "best_params, best_score = grid_search(SVC, param_grid, accuracy_score, x_train, y_train, n_splits=5)\n",
        "end_time = time.time()\n",
        "\n",
        "print(f\"Лучшие гиперпараметры: {best_params}\")\n",
        "print(f\"Лучшая точность: {best_score}\")\n",
        "print(f\"Время выполнения: {end_time - start_time:.2f} секунд\")"
      ]
    },
    {
      "cell_type": "code",
      "execution_count": 195,
      "metadata": {
        "colab": {
          "base_uri": "https://localhost:8080/"
        },
        "id": "v0s-cCWKTr_I",
        "outputId": "ffcbf2a3-0333-4115-fb4b-afdae1a0fb5f"
      },
      "outputs": [
        {
          "output_type": "stream",
          "name": "stdout",
          "text": [
            "Точность модели с найденными гиперпараметрами: 0.8\n",
            "Матрица ошибок модели с найденными гиперпараметрами:\n",
            "[[3 0 0 0 0 0 0 0 0 0]\n",
            " [0 3 0 0 0 0 0 0 0 0]\n",
            " [0 0 2 1 0 0 0 0 0 0]\n",
            " [0 0 1 2 0 0 0 0 0 0]\n",
            " [0 0 0 0 3 0 0 0 0 0]\n",
            " [0 0 0 0 0 3 0 0 0 0]\n",
            " [1 0 0 0 0 1 1 0 0 0]\n",
            " [0 0 0 0 0 0 0 3 0 0]\n",
            " [0 0 0 0 0 0 0 0 3 0]\n",
            " [0 0 1 0 0 0 0 1 0 1]]\n",
            "\n",
            "Точность базовой модели: 0.7333333333333333\n",
            "Матрица ошибок базовой модели:\n",
            "[[3 0 0 0 0 0 0 0 0 0]\n",
            " [0 3 0 0 0 0 0 0 0 0]\n",
            " [0 0 2 1 0 0 0 0 0 0]\n",
            " [0 0 1 2 0 0 0 0 0 0]\n",
            " [0 0 0 0 3 0 0 0 0 0]\n",
            " [0 0 0 1 0 2 0 0 0 0]\n",
            " [1 0 0 0 0 0 2 0 0 0]\n",
            " [0 0 0 0 0 0 0 3 0 0]\n",
            " [0 0 1 0 0 1 0 0 1 0]\n",
            " [0 0 1 0 0 0 0 1 0 1]]\n"
          ]
        }
      ],
      "source": [
        "# Используйте найденные гиперпараметры для обучения модели.\n",
        "# Протестируйте модель на x_test, y_test.\n",
        "# Сравните полученные результаты с теми, что получены в пункте 0.   --- Результаты стали лучше\n",
        "\n",
        "optimized_model = SVC(C=best_params['C'], kernel=best_params['kernel'], gamma=best_params['gamma'])\n",
        "optimized_model.fit(x_train, y_train)\n",
        "\n",
        "y_test_pred = optimized_model.predict(x_test)\n",
        "optimized_accuracy = accuracy_score(y_test, y_test_pred)\n",
        "optimized_conf_matrix = confusion_matrix(y_test, y_test_pred)\n",
        "\n",
        "print(f\"Точность модели с найденными гиперпараметрами: {optimized_accuracy}\")\n",
        "print(\"Матрица ошибок модели с найденными гиперпараметрами:\")\n",
        "print(optimized_conf_matrix)\n",
        "\n",
        "\n",
        "print(f\"\\nТочность базовой модели: {accuracy}\")\n",
        "print(\"Матрица ошибок базовой модели:\")\n",
        "print(conf_matrix)"
      ]
    },
    {
      "cell_type": "markdown",
      "metadata": {
        "id": "1EXlhsglTr_J"
      },
      "source": [
        "## 3. Random search"
      ]
    },
    {
      "cell_type": "code",
      "execution_count": 196,
      "metadata": {
        "colab": {
          "base_uri": "https://localhost:8080/"
        },
        "id": "tLVln60STr_J",
        "outputId": "7335cebc-7e24-48bc-b1de-b387409bcddc"
      },
      "outputs": [
        {
          "output_type": "stream",
          "name": "stdout",
          "text": [
            "Лучшие гиперпараметры: {'C': 5, 'kernel': 'rbf', 'gamma': 'scale'}\n",
            "Лучшая точность: 0.5999999999999999\n",
            "Время выполнения: 0.21 секунд\n"
          ]
        }
      ],
      "source": [
        "# 1. Реализуйте алгоритм поиска гиперпараметров random search.\n",
        "# 2. Запустите поиск гиперпараметров, замерьте время работы алгоритма.\n",
        "# 3. Выведите найденные значения гиперпараметров и время работы.\n",
        "# Замечание: x_test, y_test не должны применятся в рамках данного алгоритма.\n",
        "# Замечание: убедитесь, что гиперпараметры по умолчанию включены в пространство поиска.\n",
        "# Требование: используйте kfold_cv для получения значения метрики в рамках одной итерации поиска гиперпараметров.\n",
        "# Требование: количество итераций должно быть меньше в сравнении с grid search.\n",
        "\n",
        "def random_search(param_grid, model_fn, eval_fn, x: np.ndarray, y: np.ndarray, n_splits=5, n_iter=10):\n",
        "    best_score = 0\n",
        "    best_params = None\n",
        "\n",
        "    param_names = list(param_grid.keys())\n",
        "    param_values = list(param_grid.values())\n",
        "\n",
        "    for _ in range(n_iter):\n",
        "        params = {param: random.choice(values) for param, values in param_grid.items()}\n",
        "\n",
        "        def model_with_params():\n",
        "            return model_fn(**params)\n",
        "\n",
        "        score = kfold_cv(model_with_params, eval_fn, x, y, n_splits)\n",
        "\n",
        "        if score > best_score:\n",
        "            best_score = score\n",
        "            best_params = params\n",
        "\n",
        "    return best_params, best_score\n",
        "\n",
        "param_grid = {\n",
        "    'C': [0.1, 1, 5, 10],\n",
        "    'kernel': ['rbf', 'poly', 'linear'],\n",
        "    'gamma': ['scale', 'auto']\n",
        "}\n",
        "\n",
        "start_time = time.time()\n",
        "best_params_r, best_score_r = random_search(param_grid, SVC, accuracy_score, x_train, y_train)\n",
        "end_time = time.time()\n",
        "\n",
        "print(f\"Лучшие гиперпараметры: {best_params_r}\")\n",
        "print(f\"Лучшая точность: {best_score_r}\")\n",
        "print(f\"Время выполнения: {end_time - start_time:.2f} секунд\")"
      ]
    },
    {
      "cell_type": "code",
      "execution_count": 197,
      "metadata": {
        "colab": {
          "base_uri": "https://localhost:8080/"
        },
        "id": "lfaZ9hGFTr_K",
        "outputId": "3d9b2063-6714-4fe7-ab98-44fba45e2780"
      },
      "outputs": [
        {
          "output_type": "stream",
          "name": "stdout",
          "text": [
            "Random search:\n",
            "Точность модели с найденными гиперпараметрами: 0.8\n",
            "Матрица ошибок модели с найденными гиперпараметрами:\n",
            "[[3 0 0 0 0 0 0 0 0 0]\n",
            " [0 3 0 0 0 0 0 0 0 0]\n",
            " [0 0 2 1 0 0 0 0 0 0]\n",
            " [0 0 1 2 0 0 0 0 0 0]\n",
            " [0 0 0 0 3 0 0 0 0 0]\n",
            " [0 0 0 0 0 3 0 0 0 0]\n",
            " [1 0 0 0 0 1 1 0 0 0]\n",
            " [0 0 0 0 0 0 0 3 0 0]\n",
            " [0 0 0 0 0 0 0 0 3 0]\n",
            " [0 0 1 0 0 0 0 1 0 1]]\n",
            "\n",
            "Точность базовой модели: 0.7333333333333333\n",
            "Матрица ошибок базовой модели:\n",
            "[[3 0 0 0 0 0 0 0 0 0]\n",
            " [0 3 0 0 0 0 0 0 0 0]\n",
            " [0 0 2 1 0 0 0 0 0 0]\n",
            " [0 0 1 2 0 0 0 0 0 0]\n",
            " [0 0 0 0 3 0 0 0 0 0]\n",
            " [0 0 0 1 0 2 0 0 0 0]\n",
            " [1 0 0 0 0 0 2 0 0 0]\n",
            " [0 0 0 0 0 0 0 3 0 0]\n",
            " [0 0 1 0 0 1 0 0 1 0]\n",
            " [0 0 1 0 0 0 0 1 0 1]]\n",
            "\n",
            "Grid search:\n",
            "Точность модели с найденными гиперпараметрами: 0.8\n",
            "Матрица ошибок модели с найденными гиперпараметрами:\n",
            "[[3 0 0 0 0 0 0 0 0 0]\n",
            " [0 3 0 0 0 0 0 0 0 0]\n",
            " [0 0 2 1 0 0 0 0 0 0]\n",
            " [0 0 1 2 0 0 0 0 0 0]\n",
            " [0 0 0 0 3 0 0 0 0 0]\n",
            " [0 0 0 0 0 3 0 0 0 0]\n",
            " [1 0 0 0 0 1 1 0 0 0]\n",
            " [0 0 0 0 0 0 0 3 0 0]\n",
            " [0 0 0 0 0 0 0 0 3 0]\n",
            " [0 0 1 0 0 0 0 1 0 1]]\n"
          ]
        }
      ],
      "source": [
        "# Используйте найденные гиперпараметры для обучения модели.\n",
        "# Протестируйте модель на x_test, y_test (accuracy, матрица ошибок).\n",
        "# Сравните полученные результаты с теми, что получены в пункте 0.\n",
        "# Сравните полученные результаты с теми, что получены в пункте 2.\n",
        "\n",
        "optimized_model_r = SVC(C=best_params_r['C'], kernel=best_params_r['kernel'], gamma=best_params_r['gamma'])\n",
        "optimized_model_r.fit(x_train, y_train)\n",
        "\n",
        "y_test_pred = optimized_model_r.predict(x_test)\n",
        "optimized_accuracy_r = accuracy_score(y_test, y_test_pred)\n",
        "optimized_conf_matrix_r = confusion_matrix(y_test, y_test_pred)\n",
        "\n",
        "print(\"Random search:\")\n",
        "print(f\"Точность модели с найденными гиперпараметрами: {optimized_accuracy_r}\")\n",
        "print(\"Матрица ошибок модели с найденными гиперпараметрами:\")\n",
        "print(optimized_conf_matrix_r)\n",
        "\n",
        "\n",
        "print(f\"\\nТочность базовой модели: {accuracy}\")\n",
        "print(\"Матрица ошибок базовой модели:\")\n",
        "print(conf_matrix)\n",
        "\n",
        "print(\"\\nGrid search:\")\n",
        "print(f\"Точность модели с найденными гиперпараметрами: {optimized_accuracy}\")\n",
        "print(\"Матрица ошибок модели с найденными гиперпараметрами:\")\n",
        "print(optimized_conf_matrix)"
      ]
    },
    {
      "cell_type": "markdown",
      "metadata": {
        "id": "2MudCUc0Tr_L"
      },
      "source": [
        "## 4. Доп. задание (опционально)"
      ]
    },
    {
      "cell_type": "markdown",
      "metadata": {
        "id": "ipgK18cnTr_M"
      },
      "source": [
        "### 4.1 Bayesian optimization"
      ]
    },
    {
      "cell_type": "markdown",
      "metadata": {
        "id": "T0L__tfcTr_M"
      },
      "source": [
        "Примените байесовскую оптимизацию для поиска гиперпараметров.\n",
        "В качестве алгоритма используйте `BayesSearchCV` из пакета `scikit-optimize`.\n",
        "\n",
        "Сложность: почти бесплатный балл."
      ]
    },
    {
      "cell_type": "code",
      "source": [
        "!pip install scikit-optimize"
      ],
      "metadata": {
        "colab": {
          "base_uri": "https://localhost:8080/"
        },
        "id": "ClIuPszlxbCc",
        "outputId": "8a27f982-0f68-4bc9-b080-e34fbd5b7a8f"
      },
      "execution_count": 198,
      "outputs": [
        {
          "output_type": "stream",
          "name": "stdout",
          "text": [
            "Requirement already satisfied: scikit-optimize in /usr/local/lib/python3.10/dist-packages (0.10.2)\n",
            "Requirement already satisfied: joblib>=0.11 in /usr/local/lib/python3.10/dist-packages (from scikit-optimize) (1.4.2)\n",
            "Requirement already satisfied: pyaml>=16.9 in /usr/local/lib/python3.10/dist-packages (from scikit-optimize) (24.12.1)\n",
            "Requirement already satisfied: numpy>=1.20.3 in /usr/local/lib/python3.10/dist-packages (from scikit-optimize) (1.26.4)\n",
            "Requirement already satisfied: scipy>=1.1.0 in /usr/local/lib/python3.10/dist-packages (from scikit-optimize) (1.13.1)\n",
            "Requirement already satisfied: scikit-learn>=1.0.0 in /usr/local/lib/python3.10/dist-packages (from scikit-optimize) (1.5.2)\n",
            "Requirement already satisfied: packaging>=21.3 in /usr/local/lib/python3.10/dist-packages (from scikit-optimize) (24.2)\n",
            "Requirement already satisfied: PyYAML in /usr/local/lib/python3.10/dist-packages (from pyaml>=16.9->scikit-optimize) (6.0.2)\n",
            "Requirement already satisfied: threadpoolctl>=3.1.0 in /usr/local/lib/python3.10/dist-packages (from scikit-learn>=1.0.0->scikit-optimize) (3.5.0)\n"
          ]
        }
      ]
    },
    {
      "cell_type": "code",
      "execution_count": 199,
      "metadata": {
        "colab": {
          "base_uri": "https://localhost:8080/"
        },
        "id": "nuYGvlk9Tr_N",
        "outputId": "dc0ad49f-364a-43f5-c678-26e8438ef146"
      },
      "outputs": [
        {
          "output_type": "stream",
          "name": "stdout",
          "text": [
            "Лучшие гиперпараметры: OrderedDict([('C', 5), ('gamma', 'scale'), ('kernel', 'rbf')])\n",
            "Лучшая точность: 0.6273\n",
            "Время выполнения: 1.11 секунд\n"
          ]
        }
      ],
      "source": [
        "# 1. Инстанцируйте BayesSearchCV.\n",
        "# 2. Запустите поиск гиперпараметров, замерьте время работы алгоритма.\n",
        "# 3. Выведите найденные значения гиперпараметров и время работы.\n",
        "\n",
        "from skopt import BayesSearchCV\n",
        "\n",
        "param_grid = {\n",
        "    'C': [0.1, 1, 5, 10],\n",
        "    'kernel': ['rbf', 'poly', 'linear'],\n",
        "    'gamma': ['scale', 'auto']\n",
        "}\n",
        "\n",
        "bayes_search = BayesSearchCV(SVC(), param_grid, n_iter=10, cv=5)\n",
        "\n",
        "start_time = time.time()\n",
        "bayes_search.fit(x_train, y_train)\n",
        "end_time = time.time()\n",
        "\n",
        "print(f\"Лучшие гиперпараметры: {bayes_search.best_params_}\")\n",
        "print(f\"Лучшая точность: {bayes_search.best_score_:.4f}\")\n",
        "print(f\"Время выполнения: {end_time - start_time:.2f} секунд\")"
      ]
    },
    {
      "cell_type": "code",
      "execution_count": 200,
      "metadata": {
        "colab": {
          "base_uri": "https://localhost:8080/"
        },
        "id": "Ws_ADzQvTr_N",
        "outputId": "d7e25114-5eaf-4dea-cba4-4dee82ece881"
      },
      "outputs": [
        {
          "output_type": "stream",
          "name": "stdout",
          "text": [
            "Bayesian optimization:\n",
            "Точность модели с найденными гиперпараметрами: 0.8\n",
            "Матрица ошибок модели с найденными гиперпараметрами:\n",
            "[[3 0 0 0 0 0 0 0 0 0]\n",
            " [0 3 0 0 0 0 0 0 0 0]\n",
            " [0 0 2 1 0 0 0 0 0 0]\n",
            " [0 0 1 2 0 0 0 0 0 0]\n",
            " [0 0 0 0 3 0 0 0 0 0]\n",
            " [0 0 0 0 0 3 0 0 0 0]\n",
            " [1 0 0 0 0 1 1 0 0 0]\n",
            " [0 0 0 0 0 0 0 3 0 0]\n",
            " [0 0 0 0 0 0 0 0 3 0]\n",
            " [0 0 1 0 0 0 0 1 0 1]]\n",
            "\n",
            "Random search:\n",
            "Точность модели с найденными гиперпараметрами: 0.8\n",
            "Матрица ошибок модели с найденными гиперпараметрами:\n",
            "[[3 0 0 0 0 0 0 0 0 0]\n",
            " [0 3 0 0 0 0 0 0 0 0]\n",
            " [0 0 2 1 0 0 0 0 0 0]\n",
            " [0 0 1 2 0 0 0 0 0 0]\n",
            " [0 0 0 0 3 0 0 0 0 0]\n",
            " [0 0 0 0 0 3 0 0 0 0]\n",
            " [1 0 0 0 0 1 1 0 0 0]\n",
            " [0 0 0 0 0 0 0 3 0 0]\n",
            " [0 0 0 0 0 0 0 0 3 0]\n",
            " [0 0 1 0 0 0 0 1 0 1]]\n",
            "\n",
            "Точность базовой модели: 0.7333333333333333\n",
            "Матрица ошибок базовой модели:\n",
            "[[3 0 0 0 0 0 0 0 0 0]\n",
            " [0 3 0 0 0 0 0 0 0 0]\n",
            " [0 0 2 1 0 0 0 0 0 0]\n",
            " [0 0 1 2 0 0 0 0 0 0]\n",
            " [0 0 0 0 3 0 0 0 0 0]\n",
            " [0 0 0 1 0 2 0 0 0 0]\n",
            " [1 0 0 0 0 0 2 0 0 0]\n",
            " [0 0 0 0 0 0 0 3 0 0]\n",
            " [0 0 1 0 0 1 0 0 1 0]\n",
            " [0 0 1 0 0 0 0 1 0 1]]\n",
            "\n",
            "Grid search:\n",
            "Точность модели с найденными гиперпараметрами: 0.8\n",
            "Матрица ошибок модели с найденными гиперпараметрами:\n",
            "[[3 0 0 0 0 0 0 0 0 0]\n",
            " [0 3 0 0 0 0 0 0 0 0]\n",
            " [0 0 2 1 0 0 0 0 0 0]\n",
            " [0 0 1 2 0 0 0 0 0 0]\n",
            " [0 0 0 0 3 0 0 0 0 0]\n",
            " [0 0 0 0 0 3 0 0 0 0]\n",
            " [1 0 0 0 0 1 1 0 0 0]\n",
            " [0 0 0 0 0 0 0 3 0 0]\n",
            " [0 0 0 0 0 0 0 0 3 0]\n",
            " [0 0 1 0 0 0 0 1 0 1]]\n"
          ]
        }
      ],
      "source": [
        "# Используйте найденные гиперпараметры для обучения модели.\n",
        "# Протестируйте модель на x_test, y_test (accuracy, матрица ошибок).\n",
        "# Сравните полученные результаты с теми, что получены в пункте 0.\n",
        "# Сравните полученные результаты с теми, что получены в пункте 2.\n",
        "\n",
        "optimized_model_b = SVC(C=bayes_search.best_params_['C'], kernel=bayes_search.best_params_['kernel'], gamma=bayes_search.best_params_['gamma'])\n",
        "optimized_model_b.fit(x_train, y_train)\n",
        "\n",
        "y_test_pred = optimized_model_b.predict(x_test)\n",
        "optimized_accuracy_b = accuracy_score(y_test, y_test_pred)\n",
        "optimized_conf_matrix_b = confusion_matrix(y_test, y_test_pred)\n",
        "\n",
        "print(\"Bayesian optimization:\")\n",
        "print(f\"Точность модели с найденными гиперпараметрами: {optimized_accuracy_b}\")\n",
        "print(\"Матрица ошибок модели с найденными гиперпараметрами:\")\n",
        "print(optimized_conf_matrix_b)\n",
        "\n",
        "print(\"\\nRandom search:\")\n",
        "print(f\"Точность модели с найденными гиперпараметрами: {optimized_accuracy_r}\")\n",
        "print(\"Матрица ошибок модели с найденными гиперпараметрами:\")\n",
        "print(optimized_conf_matrix_r)\n",
        "\n",
        "print(f\"\\nТочность базовой модели: {accuracy}\")\n",
        "print(\"Матрица ошибок базовой модели:\")\n",
        "print(conf_matrix)\n",
        "\n",
        "print(\"\\nGrid search:\")\n",
        "print(f\"Точность модели с найденными гиперпараметрами: {optimized_accuracy}\")\n",
        "print(\"Матрица ошибок модели с найденными гиперпараметрами:\")\n",
        "print(optimized_conf_matrix)"
      ]
    },
    {
      "cell_type": "markdown",
      "metadata": {
        "id": "k8cvrlhRTr_O"
      },
      "source": [
        "### 4.2 Tree of Parzen Estimators (TPE) из HyperOpt"
      ]
    },
    {
      "cell_type": "markdown",
      "metadata": {
        "id": "sasXSdM0Tr_O"
      },
      "source": [
        "Примените TPE из библиотеки hyperopt для поиска гиперпараметров. Вики по HyperOpt: https://github.com/hyperopt/hyperopt/wiki/FMin\n",
        "\n",
        "Сложность: чтец документаций o(*￣▽￣*)ブ."
      ]
    },
    {
      "cell_type": "code",
      "source": [
        "!pip install hyperopt"
      ],
      "metadata": {
        "colab": {
          "base_uri": "https://localhost:8080/"
        },
        "id": "-yuA3p8R3Wte",
        "outputId": "33355aad-6b22-4525-c98f-9b302eaa6938"
      },
      "execution_count": 201,
      "outputs": [
        {
          "output_type": "stream",
          "name": "stdout",
          "text": [
            "Requirement already satisfied: hyperopt in /usr/local/lib/python3.10/dist-packages (0.2.7)\n",
            "Requirement already satisfied: numpy in /usr/local/lib/python3.10/dist-packages (from hyperopt) (1.26.4)\n",
            "Requirement already satisfied: scipy in /usr/local/lib/python3.10/dist-packages (from hyperopt) (1.13.1)\n",
            "Requirement already satisfied: six in /usr/local/lib/python3.10/dist-packages (from hyperopt) (1.17.0)\n",
            "Requirement already satisfied: networkx>=2.2 in /usr/local/lib/python3.10/dist-packages (from hyperopt) (3.4.2)\n",
            "Requirement already satisfied: future in /usr/local/lib/python3.10/dist-packages (from hyperopt) (1.0.0)\n",
            "Requirement already satisfied: tqdm in /usr/local/lib/python3.10/dist-packages (from hyperopt) (4.66.6)\n",
            "Requirement already satisfied: cloudpickle in /usr/local/lib/python3.10/dist-packages (from hyperopt) (3.1.0)\n",
            "Requirement already satisfied: py4j in /usr/local/lib/python3.10/dist-packages (from hyperopt) (0.10.9.7)\n"
          ]
        }
      ]
    },
    {
      "cell_type": "code",
      "execution_count": 208,
      "metadata": {
        "id": "fw05FgJkTr_P"
      },
      "outputs": [],
      "source": [
        "from hyperopt import hp, tpe, fmin\n",
        "\n",
        "def objective(args):\n",
        "    # Принимает гиперпараметры, инстанцирует модель, обучает её, возвращает значение метрики.\n",
        "    # Замечание: x_test, y_test не должны применятся в рамках данного алгоритма.\n",
        "    model = SVC(C=args['C'], kernel=args['kernel'], gamma=args['gamma'])\n",
        "    model.fit(x_train, y_train)\n",
        "    y_pred = model.predict(x_test)\n",
        "    accuracy = accuracy_score(y_test, y_pred)\n",
        "    return -accuracy"
      ]
    },
    {
      "cell_type": "code",
      "execution_count": 209,
      "metadata": {
        "id": "6exgCoWqTr_P"
      },
      "outputs": [],
      "source": [
        "# Определите пространство поиска гиперпараметров\n",
        "space = {\n",
        "    'C': hp.choice('C', [0.1, 1, 5, 10]),\n",
        "    'kernel': hp.choice('kernel', ['linear', 'rbf', 'poly']),\n",
        "    'gamma': hp.choice('gamma', ['scale', 'auto'])\n",
        "}"
      ]
    },
    {
      "cell_type": "code",
      "execution_count": 210,
      "metadata": {
        "colab": {
          "base_uri": "https://localhost:8080/"
        },
        "id": "cDie7dV-Tr_Q",
        "outputId": "0e572e24-d7f2-45e8-f9d3-2ebd6b47d884"
      },
      "outputs": [
        {
          "output_type": "stream",
          "name": "stdout",
          "text": [
            "100%|██████████| 50/50 [00:00<00:00, 113.12trial/s, best loss: -0.8]\n",
            "Лучшие гиперпараметры: C: 10, kernel: rbf, gamma: scale\n",
            "Время выполнения: 0.46 секунд\n"
          ]
        }
      ],
      "source": [
        "# 1. Запустите поиск гиперпараметров, замерьте время работы алгоритма.\n",
        "# 2. Выведите найденные значения гиперпараметров и время работы.\n",
        "\n",
        "start_time = time.time()\n",
        "\n",
        "tpe_search = fmin(fn=objective, space=space, algo=tpe.suggest, max_evals=50)\n",
        "\n",
        "end_time = time.time()\n",
        "\n",
        "c_mapping = [0.1, 1, 5, 10]\n",
        "kernel_mapping = ['linear', 'rbf', 'poly']\n",
        "gamma_mapping = ['scale', 'auto']\n",
        "\n",
        "tpe_c = c_mapping[tpe_search['C']]\n",
        "tpe_kernel = kernel_mapping[tpe_search['kernel']]\n",
        "tpe_gamma = gamma_mapping[tpe_search['gamma']]\n",
        "\n",
        "print(\"Лучшие гиперпараметры:\", f\"C: {tpe_c}, kernel: {tpe_kernel}, gamma: {tpe_gamma}\")\n",
        "print(f\"Время выполнения: {end_time - start_time:.2f} секунд\")"
      ]
    },
    {
      "cell_type": "code",
      "execution_count": 211,
      "metadata": {
        "colab": {
          "base_uri": "https://localhost:8080/"
        },
        "id": "Q9InnlI1Tr_R",
        "outputId": "618bf293-0472-46a2-b427-72ae7d4bc3ea"
      },
      "outputs": [
        {
          "output_type": "stream",
          "name": "stdout",
          "text": [
            "TPE:\n",
            "Точность модели с найденными гиперпараметрами: 0.8\n",
            "Матрица ошибок модели с найденными гиперпараметрами:\n",
            "[[3 0 0 0 0 0 0 0 0 0]\n",
            " [0 3 0 0 0 0 0 0 0 0]\n",
            " [0 0 2 1 0 0 0 0 0 0]\n",
            " [0 0 1 2 0 0 0 0 0 0]\n",
            " [0 0 0 0 3 0 0 0 0 0]\n",
            " [0 0 0 0 0 3 0 0 0 0]\n",
            " [1 0 0 0 0 1 1 0 0 0]\n",
            " [0 0 0 0 0 0 0 3 0 0]\n",
            " [0 0 0 0 0 0 0 0 3 0]\n",
            " [0 0 1 0 0 0 0 1 0 1]]\n",
            "\n",
            "Bayesian optimization:\n",
            "Точность модели с найденными гиперпараметрами: 0.8\n",
            "Матрица ошибок модели с найденными гиперпараметрами:\n",
            "[[3 0 0 0 0 0 0 0 0 0]\n",
            " [0 3 0 0 0 0 0 0 0 0]\n",
            " [0 0 2 1 0 0 0 0 0 0]\n",
            " [0 0 1 2 0 0 0 0 0 0]\n",
            " [0 0 0 0 3 0 0 0 0 0]\n",
            " [0 0 0 0 0 3 0 0 0 0]\n",
            " [1 0 0 0 0 1 1 0 0 0]\n",
            " [0 0 0 0 0 0 0 3 0 0]\n",
            " [0 0 0 0 0 0 0 0 3 0]\n",
            " [0 0 1 0 0 0 0 1 0 1]]\n",
            "\n",
            "Random search:\n",
            "Точность модели с найденными гиперпараметрами: 0.8\n",
            "Матрица ошибок модели с найденными гиперпараметрами:\n",
            "[[3 0 0 0 0 0 0 0 0 0]\n",
            " [0 3 0 0 0 0 0 0 0 0]\n",
            " [0 0 2 1 0 0 0 0 0 0]\n",
            " [0 0 1 2 0 0 0 0 0 0]\n",
            " [0 0 0 0 3 0 0 0 0 0]\n",
            " [0 0 0 0 0 3 0 0 0 0]\n",
            " [1 0 0 0 0 1 1 0 0 0]\n",
            " [0 0 0 0 0 0 0 3 0 0]\n",
            " [0 0 0 0 0 0 0 0 3 0]\n",
            " [0 0 1 0 0 0 0 1 0 1]]\n",
            "\n",
            "Точность базовой модели: 0.7333333333333333\n",
            "Матрица ошибок базовой модели:\n",
            "[[3 0 0 0 0 0 0 0 0 0]\n",
            " [0 3 0 0 0 0 0 0 0 0]\n",
            " [0 0 2 1 0 0 0 0 0 0]\n",
            " [0 0 1 2 0 0 0 0 0 0]\n",
            " [0 0 0 0 3 0 0 0 0 0]\n",
            " [0 0 0 1 0 2 0 0 0 0]\n",
            " [1 0 0 0 0 0 2 0 0 0]\n",
            " [0 0 0 0 0 0 0 3 0 0]\n",
            " [0 0 1 0 0 1 0 0 1 0]\n",
            " [0 0 1 0 0 0 0 1 0 1]]\n",
            "\n",
            "Grid search:\n",
            "Точность модели с найденными гиперпараметрами: 0.8\n",
            "Матрица ошибок модели с найденными гиперпараметрами:\n",
            "[[3 0 0 0 0 0 0 0 0 0]\n",
            " [0 3 0 0 0 0 0 0 0 0]\n",
            " [0 0 2 1 0 0 0 0 0 0]\n",
            " [0 0 1 2 0 0 0 0 0 0]\n",
            " [0 0 0 0 3 0 0 0 0 0]\n",
            " [0 0 0 0 0 3 0 0 0 0]\n",
            " [1 0 0 0 0 1 1 0 0 0]\n",
            " [0 0 0 0 0 0 0 3 0 0]\n",
            " [0 0 0 0 0 0 0 0 3 0]\n",
            " [0 0 1 0 0 0 0 1 0 1]]\n"
          ]
        }
      ],
      "source": [
        "# Используйте найденные гиперпараметры для обучения модели.\n",
        "# Протестируйте модель на x_test, y_test (accuracy, матрица ошибок).\n",
        "# Сравните полученные результаты с теми, что получены в пункте 0.\n",
        "# Сравните полученные результаты с теми, что получены в пункте 2.\n",
        "\n",
        "tpe_model = SVC(C=tpe_c, kernel=tpe_kernel, gamma=tpe_gamma)\n",
        "tpe_model.fit(x_train, y_train)\n",
        "\n",
        "y_pred = tpe_model.predict(x_test)\n",
        "\n",
        "print(\"TPE:\")\n",
        "print(\"Точность модели с найденными гиперпараметрами:\", accuracy_score(y_test, y_pred))\n",
        "print(\"Матрица ошибок модели с найденными гиперпараметрами:\")\n",
        "print(confusion_matrix(y_test, y_pred))\n",
        "\n",
        "print(\"\\nBayesian optimization:\")\n",
        "print(f\"Точность модели с найденными гиперпараметрами: {optimized_accuracy_b}\")\n",
        "print(\"Матрица ошибок модели с найденными гиперпараметрами:\")\n",
        "print(optimized_conf_matrix_b)\n",
        "\n",
        "print(\"\\nRandom search:\")\n",
        "print(f\"Точность модели с найденными гиперпараметрами: {optimized_accuracy_r}\")\n",
        "print(\"Матрица ошибок модели с найденными гиперпараметрами:\")\n",
        "print(optimized_conf_matrix_r)\n",
        "\n",
        "print(f\"\\nТочность базовой модели: {accuracy}\")\n",
        "print(\"Матрица ошибок базовой модели:\")\n",
        "print(conf_matrix)\n",
        "\n",
        "print(\"\\nGrid search:\")\n",
        "print(f\"Точность модели с найденными гиперпараметрами: {optimized_accuracy}\")\n",
        "print(\"Матрица ошибок модели с найденными гиперпараметрами:\")\n",
        "print(optimized_conf_matrix)"
      ]
    }
  ],
  "metadata": {
    "kernelspec": {
      "display_name": "Python 3 (ipykernel)",
      "language": "python",
      "name": "python3"
    },
    "language_info": {
      "codemirror_mode": {
        "name": "ipython",
        "version": 3
      },
      "file_extension": ".py",
      "mimetype": "text/x-python",
      "name": "python",
      "nbconvert_exporter": "python",
      "pygments_lexer": "ipython3",
      "version": "3.11.5"
    },
    "vscode": {
      "interpreter": {
        "hash": "23b26f1881f590c7b459213b984520b9808dddee0bcd327e09d3f0f8eaeae1aa"
      }
    },
    "colab": {
      "provenance": []
    }
  },
  "nbformat": 4,
  "nbformat_minor": 0
}