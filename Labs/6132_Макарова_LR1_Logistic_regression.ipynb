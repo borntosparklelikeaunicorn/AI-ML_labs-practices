{
  "cells": [
    {
      "cell_type": "code",
      "execution_count": 83,
      "metadata": {
        "id": "Ee3b7ArGly9W"
      },
      "outputs": [],
      "source": [
        "import numpy as np\n",
        "import os\n",
        "from sklearn.metrics import accuracy_score, f1_score, precision_score, recall_score"
      ]
    },
    {
      "cell_type": "code",
      "execution_count": 84,
      "metadata": {
        "id": "MYsc1tR9ly9d"
      },
      "outputs": [],
      "source": [
        "def load_data(folder):\n",
        "    x_train = np.load(os.path.join(folder, 'x_train.npy'))\n",
        "    y_train = np.load(os.path.join(folder, 'y_train.npy'))\n",
        "    x_test = np.load(os.path.join(folder, 'x_test.npy'))\n",
        "    y_test = np.load(os.path.join(folder, 'y_test.npy'))\n",
        "    return x_train, y_train, x_test, y_test"
      ]
    },
    {
      "cell_type": "code",
      "execution_count": 85,
      "metadata": {
        "id": "QCKiCu4ply9f"
      },
      "outputs": [],
      "source": [
        "def sigmoid(x):\n",
        "    return 1 / (1 + np.exp(-x))\n",
        "\n",
        "\n",
        "class LogisticRegression:\n",
        "    def __init__(self, dim=2):\n",
        "        rng = np.random.default_rng(seed=0)\n",
        "        self.w = rng.normal(size=(dim, 1)) / np.sqrt(dim)\n",
        "        self.b = np.zeros((1,))\n",
        "\n",
        "    def predict(self, x, probs=False):\n",
        "        # x - np.array размерности [N, dim]\n",
        "        #     Массив входных признаков.\n",
        "        assert x.shape[1] == self.w.shape[0], \\\n",
        "            \"Размерность экземпляров данных не соответствует ожидаемой: \" + \\\n",
        "            f\"ожидалось x.shape[1]={self.w.shape[0]}, но было получено x.shape[1]={x.shape[1]}\"\n",
        "\n",
        "        x = x.dot(self.w) + self.b  # logits\n",
        "        p = sigmoid(x)  # probabilities\n",
        "        if probs:\n",
        "            return p\n",
        "        return np.array(p > 0.5).astype('int32')\n",
        "\n",
        "    def fit(self, x, y, iters=1000, lr=0.01):\n",
        "        # x - np.array размерности [N, dim]\n",
        "        #     Массив входных признаков.\n",
        "        # y - np.array размернсоти [N]\n",
        "        #     Массив меток (правильных ответов).\n",
        "        assert len(x) == len(y), \\\n",
        "            \"Количество экземпляров в массиве X не равно количеству меток в массиве Y. \" + \\\n",
        "            f\"Полученные размеры: len(X) = {len(x)}, len(Y) = {len(y)}.\"\n",
        "        assert x.shape[1] == self.w.shape[0], \\\n",
        "            \"Размерность экземпляров данных не соответствует ожидаемой: \" + \\\n",
        "            f\"ожидалось x.shape[1]={self.w.shape[0]}, но было получено x.shape[1]={x.shape[1]}\"\n",
        "        # Алгоритм градиентного спуска.\n",
        "        # Минимизируется бинарная кросс-энтропия.\n",
        "        y = y.reshape(-1, 1)\n",
        "        for i in range(iters):\n",
        "            preds = self.predict(x, probs=True)\n",
        "            self.w -= lr * np.mean(x.T.dot(preds - y), axis=1, keepdims=True)\n",
        "            self.b -= lr * np.mean(preds - y, axis=0)\n",
        "        return self"
      ]
    },
    {
      "cell_type": "markdown",
      "metadata": {
        "id": "S8uYu44Rly9h"
      },
      "source": [
        "## 1. Применение логистической регрессии (несбалансированные данные)"
      ]
    },
    {
      "cell_type": "markdown",
      "metadata": {
        "id": "_04poxhqly9k"
      },
      "source": [
        "### 1.1 Создание и обучение логистической регрессии"
      ]
    },
    {
      "cell_type": "code",
      "source": [
        "from google.colab import drive\n",
        "drive.mount('/content/drive')"
      ],
      "metadata": {
        "colab": {
          "base_uri": "https://localhost:8080/"
        },
        "id": "dic8t1NJoawz",
        "outputId": "8cc8bf23-4eff-4929-c579-9ea4cda360aa"
      },
      "execution_count": 86,
      "outputs": [
        {
          "output_type": "stream",
          "name": "stdout",
          "text": [
            "Drive already mounted at /content/drive; to attempt to forcibly remount, call drive.mount(\"/content/drive\", force_remount=True).\n"
          ]
        }
      ]
    },
    {
      "cell_type": "code",
      "execution_count": 87,
      "metadata": {
        "id": "V7XnxFUTly9m"
      },
      "outputs": [],
      "source": [
        "# Указание: производить нормализацию данных не нужно, это часть задания.\n",
        "x_train, y_train, x_test, y_test = load_data('/content/drive/MyDrive/dataset1')"
      ]
    },
    {
      "cell_type": "code",
      "execution_count": 88,
      "metadata": {
        "colab": {
          "base_uri": "https://localhost:8080/"
        },
        "id": "dXnDM42Uly9n",
        "outputId": "30de44b5-9b44-46c5-bc43-72697c7997c6"
      },
      "outputs": [
        {
          "output_type": "execute_result",
          "data": {
            "text/plain": [
              "<__main__.LogisticRegression at 0x7cca8c168a60>"
            ]
          },
          "metadata": {},
          "execution_count": 88
        }
      ],
      "source": [
        "# Создайте модель логистической регрессии и обучите её, используя метод fit.\n",
        "model = LogisticRegression(dim=x_train.shape[1])\n",
        "model.fit(x_train, y_train)"
      ]
    },
    {
      "cell_type": "code",
      "execution_count": 89,
      "metadata": {
        "colab": {
          "base_uri": "https://localhost:8080/"
        },
        "id": "klCg-6ZPly9p",
        "outputId": "93dc7dc6-749d-410a-ec89-a9e77a4bd587"
      },
      "outputs": [
        {
          "output_type": "stream",
          "name": "stdout",
          "text": [
            "Accuracy: 0.9045\n"
          ]
        }
      ],
      "source": [
        "# Получите предсказания на тестовой выборке и оцените точность модели,\n",
        "# используя accuracy_score из пакета SciKit-Learn.\n",
        "y_pred = model.predict(x_test)\n",
        "\n",
        "accuracy = accuracy_score(y_test, y_pred)\n",
        "print(f\"Accuracy: {accuracy:.4f}\")"
      ]
    },
    {
      "cell_type": "markdown",
      "metadata": {
        "id": "87JDqiE3ly9q"
      },
      "source": [
        "### 1.2 Анализ качества модели"
      ]
    },
    {
      "cell_type": "code",
      "execution_count": 90,
      "metadata": {
        "id": "w0c0gOHPly9r"
      },
      "outputs": [],
      "source": [
        "# Допишите класс \"глупого классификатора\", что всегда предсказывает класс `0`.\n",
        "\n",
        "class DummyClassifier:\n",
        "    def __init__(self):\n",
        "        print('Hello, brother🤪!')\n",
        "\n",
        "    def predict(self, x):\n",
        "        # x - numpy массив размерности [N, dim]\n",
        "        # Должен возвращаться массив N предсказаний\n",
        "        return np.zeros((x.shape[0],), dtype=int)"
      ]
    },
    {
      "cell_type": "code",
      "execution_count": 91,
      "metadata": {
        "colab": {
          "base_uri": "https://localhost:8080/"
        },
        "id": "7CBBWzLWly9s",
        "outputId": "3ede8896-7015-486e-cc9c-a5dfd81fcfbf"
      },
      "outputs": [
        {
          "output_type": "stream",
          "name": "stdout",
          "text": [
            "Hello, brother🤪!\n",
            "My accuracy: 0.9091\n"
          ]
        }
      ],
      "source": [
        "# Оцените точность \"глупого классификатора\", объясните результат.\n",
        "dummy_model = DummyClassifier()\n",
        "y_pred_dummy = dummy_model.predict(x_test)\n",
        "accuracy_dummy = accuracy_score(y_test, y_pred_dummy)\n",
        "print(f\"My accuracy: {accuracy_dummy:.4f}\")"
      ]
    },
    {
      "cell_type": "code",
      "execution_count": 92,
      "metadata": {
        "colab": {
          "base_uri": "https://localhost:8080/"
        },
        "id": "B5kZRdtmly9t",
        "outputId": "b9a27c55-7784-4058-9439-6a1894123da4"
      },
      "outputs": [
        {
          "output_type": "stream",
          "name": "stdout",
          "text": [
            "F1-score: 0.0000\n",
            "Precision: 0.0000\n",
            "Recall: 0.0000\n"
          ]
        }
      ],
      "source": [
        "# Используйте дополнительные метрики (f1-score, recall, precision) из пакета sklearn для анализа \"глупого классификатора\".\n",
        "f1_score_dummy = f1_score(y_test, y_pred_dummy, zero_division=0)\n",
        "print(f\"F1-score: {f1_score_dummy:.4f}\")\n",
        "precision_dummy = precision_score(y_test, y_pred_dummy, zero_division=0)\n",
        "print(f\"Precision: {precision_dummy:.4f}\")\n",
        "recall_dummy = recall_score(y_test, y_pred_dummy, zero_division=0)\n",
        "print(f\"Recall: {recall_dummy:.4f}\")"
      ]
    },
    {
      "cell_type": "code",
      "execution_count": 93,
      "metadata": {
        "colab": {
          "base_uri": "https://localhost:8080/"
        },
        "id": "TLfV1msHly9u",
        "outputId": "2ced4344-f508-4169-8488-fe5e5d5f7307"
      },
      "outputs": [
        {
          "output_type": "stream",
          "name": "stdout",
          "text": [
            "F1-score: 0.4000\n",
            "Precision: 0.4667\n",
            "Recall: 0.3500\n"
          ]
        }
      ],
      "source": [
        "# Используя те же метрики, проанализируйте обученную вами модель логистической регрессии.\n",
        "f1__score = f1_score(y_test, y_pred)\n",
        "print(f\"F1-score: {f1__score:.4f}\")\n",
        "precision = precision_score(y_test, y_pred)\n",
        "print(f\"Precision: {precision:.4f}\")\n",
        "recall = recall_score(y_test, y_pred)\n",
        "print(f\"Recall: {recall:.4f}\")"
      ]
    },
    {
      "cell_type": "code",
      "execution_count": 94,
      "metadata": {
        "id": "OuYpMgaAly9u"
      },
      "outputs": [],
      "source": [
        "# Объясните результат, описав его комментариями в этой клетке.\n",
        "\n",
        "# Можно заметить, что у модели логистической регрессии высокая accuracy и далеко не высокие, но не равные нулю, f1-score, recall, precision;\n",
        "# а у глупого классификатора достаточно высокое значение accuracy, но все остальные метрики у него неприлично низкие, равные нулю.\n",
        "# Такие результаты объясняются дисбалансом классов.\n",
        "# F1-score, recall и precision дают более полное представление о качестве модели,\n",
        "# т.к. accuracy оценивает, сколько предсказаний совпало с истинными метками (в случае глупого классификатора были предсказаны все нули,\n",
        "# но в данных много нулей, поэтому точность у него такого высокая),\n",
        "# precision - отношение количества правильных предсказаний одного класса к общему числу предсказаний этого класса\n",
        "# recall показывает, сколько объектов одного класса было правильно предсказано,\n",
        "# а f1-score гармоническое среднее между precision и recall.\n",
        "# У глупого классификатора не было ни одного правильно предсказанного экземпляра класса \"1\", поэтому эти 3 метрики такие низкие."
      ]
    },
    {
      "cell_type": "markdown",
      "metadata": {
        "id": "XyjhJHPOly9v"
      },
      "source": [
        "### 1.3 Анализ набора данных"
      ]
    },
    {
      "cell_type": "code",
      "execution_count": 95,
      "metadata": {
        "colab": {
          "base_uri": "https://localhost:8080/"
        },
        "id": "TGQZdCiLly9v",
        "outputId": "97f71503-158b-4c35-81d1-59c224f1d863"
      },
      "outputs": [
        {
          "output_type": "stream",
          "name": "stdout",
          "text": [
            "Number of class instances in training set: {0.0: 200, 1.0: 20}\n"
          ]
        }
      ],
      "source": [
        "# Посчитайте количество экземпляров данных для каждого класса.\n",
        "unique, counts = np.unique(y_train, return_counts=True)\n",
        "number_of_class_instances = dict(zip(unique, counts))\n",
        "print(\"Number of class instances in training set:\", number_of_class_instances)"
      ]
    },
    {
      "cell_type": "code",
      "execution_count": 96,
      "metadata": {
        "colab": {
          "base_uri": "https://localhost:8080/"
        },
        "id": "lQBNe2B5ly9v",
        "outputId": "5ad380d8-43dd-4a49-927d-1fcf997b52ca"
      },
      "outputs": [
        {
          "output_type": "stream",
          "name": "stdout",
          "text": [
            "New number of class instances: {0.0: 200, 1.0: 200}\n"
          ]
        }
      ],
      "source": [
        "# Предложите способ улучшения качества модели. Подсказка: добавление дубликатов в данные.\n",
        "# Указание: не изменяйте тестовую выборку.\n",
        "\n",
        "# Будем делать балансировку классов:\n",
        "minority_class = min(number_of_class_instances, key=number_of_class_instances.get)\n",
        "majority_class = max(number_of_class_instances, key=number_of_class_instances.get)\n",
        "\n",
        "diff = number_of_class_instances[majority_class] - number_of_class_instances[minority_class]\n",
        "minority_indices = np.where(y_train == minority_class)[0]\n",
        "duplicated_indices = np.random.choice(minority_indices, diff, replace=True)\n",
        "\n",
        "x_train_balanced = np.vstack([x_train, x_train[duplicated_indices]])\n",
        "y_train_balanced = np.hstack([y_train, y_train[duplicated_indices]])\n",
        "\n",
        "print(\"New number of class instances:\", dict(zip(*np.unique(y_train_balanced, return_counts=True))))"
      ]
    },
    {
      "cell_type": "code",
      "execution_count": 97,
      "metadata": {
        "colab": {
          "base_uri": "https://localhost:8080/"
        },
        "id": "jNQkdF9uly9w",
        "outputId": "684e1565-18bc-4d69-8055-a9fab083f9c8"
      },
      "outputs": [
        {
          "output_type": "execute_result",
          "data": {
            "text/plain": [
              "<__main__.LogisticRegression at 0x7cca8c16bf40>"
            ]
          },
          "metadata": {},
          "execution_count": 97
        }
      ],
      "source": [
        "# Создайте и обучите модель с использованием предложенных наработок.\n",
        "model_new = LogisticRegression(dim=x_train_balanced.shape[1])\n",
        "model_new.fit(x_train_balanced, y_train_balanced)"
      ]
    },
    {
      "cell_type": "code",
      "execution_count": 98,
      "metadata": {
        "colab": {
          "base_uri": "https://localhost:8080/"
        },
        "id": "slymprmnly9w",
        "outputId": "046496ab-99e6-4db8-f562-03b765d6d77a"
      },
      "outputs": [
        {
          "output_type": "stream",
          "name": "stdout",
          "text": [
            "Accuracy: 0.9455\n",
            "F1-score: 0.7143\n",
            "Precision: 0.6818\n",
            "Recall: 0.7500\n"
          ]
        }
      ],
      "source": [
        "# Оцените качество новой модели, используя метрики из пакета sklearn.metrics.\n",
        "# Указание: постарайтесь сбалансировать данные таким образом, чтобы новая модель была ощутимо лучше старой.\n",
        "y_pred_new = model_new.predict(x_test)\n",
        "\n",
        "accuracy_new = accuracy_score(y_test, y_pred_new)\n",
        "print(f\"Accuracy: {accuracy_new:.4f}\")\n",
        "f1_score_new = f1_score(y_test, y_pred_new)\n",
        "print(f\"F1-score: {f1_score_new:.4f}\")\n",
        "precision_new = precision_score(y_test, y_pred_new)\n",
        "print(f\"Precision: {precision_new:.4f}\")\n",
        "recall_new = recall_score(y_test, y_pred_new)\n",
        "print(f\"Recall: {recall_new:.4f}\")"
      ]
    },
    {
      "cell_type": "markdown",
      "metadata": {
        "id": "DWuyKGgcly9x"
      },
      "source": [
        "## 2. Применение логистической регрессии (нелинейные данные)"
      ]
    },
    {
      "cell_type": "code",
      "execution_count": 99,
      "metadata": {
        "id": "IOR_UBBJly9x"
      },
      "outputs": [],
      "source": [
        "x_train2, y_train2, x_test2, y_test2 = load_data('/content/drive/MyDrive/dataset2')"
      ]
    },
    {
      "cell_type": "code",
      "execution_count": 100,
      "metadata": {
        "colab": {
          "base_uri": "https://localhost:8080/"
        },
        "id": "qWdIi9Coly9x",
        "outputId": "1870dd10-be70-4643-bcba-605879592c7b"
      },
      "outputs": [
        {
          "output_type": "execute_result",
          "data": {
            "text/plain": [
              "<__main__.LogisticRegression at 0x7cca8c16aa70>"
            ]
          },
          "metadata": {},
          "execution_count": 100
        }
      ],
      "source": [
        "# Создайте и обучите модель но этом наборе данных.\n",
        "model2 = LogisticRegression(dim=x_train2.shape[1])\n",
        "model2.fit(x_train2, y_train2)"
      ]
    },
    {
      "cell_type": "code",
      "execution_count": 101,
      "metadata": {
        "colab": {
          "base_uri": "https://localhost:8080/"
        },
        "id": "MOb92dP5ly9y",
        "outputId": "d2d0844e-9d27-4053-9389-60a1da90a2e4"
      },
      "outputs": [
        {
          "output_type": "stream",
          "name": "stdout",
          "text": [
            "Accuracy: 0.5700\n",
            "F1-score: 0.6195\n",
            "Precision: 0.5147\n",
            "Recall: 0.7778\n"
          ]
        }
      ],
      "source": [
        "# Проанализируйте качество модели.\n",
        "y_pred2 = model2.predict(x_test2)\n",
        "\n",
        "accuracy2 = accuracy_score(y_test2, y_pred2)\n",
        "print(f\"Accuracy: {accuracy2:.4f}\")\n",
        "f1_score2 = f1_score(y_test2, y_pred2)\n",
        "print(f\"F1-score: {f1_score2:.4f}\")\n",
        "precision2 = precision_score(y_test2, y_pred2)\n",
        "print(f\"Precision: {precision2:.4f}\")\n",
        "recall2 = recall_score(y_test2, y_pred2)\n",
        "print(f\"Recall: {recall2:.4f}\")"
      ]
    },
    {
      "cell_type": "code",
      "execution_count": 102,
      "metadata": {
        "id": "hecLVgOIly9y"
      },
      "outputs": [],
      "source": [
        "# FEATURE ENGINEERING: попробуйте применить на исходных данных разные нелинейные функции (sin, tanh, ...).\n",
        "# Объедините трансформированные данные с исходными (важно: количество экземпляров в x_train не должно увеличиться).\n",
        "def nonlinear_transform(x):\n",
        "    sin_x = np.sin(x)\n",
        "    tanh_x = np.tanh(x)\n",
        "    exp_x = np.exp(-x**2)\n",
        "    x_transformed = np.hstack([x, sin_x, tanh_x, exp_x])\n",
        "    return x_transformed\n",
        "\n",
        "x_train_transformed = nonlinear_transform(x_train2)\n",
        "x_test_transformed = nonlinear_transform(x_test2)"
      ]
    },
    {
      "cell_type": "code",
      "execution_count": 103,
      "metadata": {
        "colab": {
          "base_uri": "https://localhost:8080/"
        },
        "id": "nesrgR3ely9y",
        "outputId": "4d5f2c7d-c1b0-429a-c8b7-c45ffe4c0f5c"
      },
      "outputs": [
        {
          "output_type": "execute_result",
          "data": {
            "text/plain": [
              "<__main__.LogisticRegression at 0x7cca536a2ec0>"
            ]
          },
          "metadata": {},
          "execution_count": 103
        }
      ],
      "source": [
        "# Создайте и обучите модель с использованием наработок.\n",
        "model_new2 = LogisticRegression(dim=x_train_transformed.shape[1])\n",
        "model_new2.fit(x_train_transformed, y_train2)"
      ]
    },
    {
      "cell_type": "code",
      "execution_count": 104,
      "metadata": {
        "colab": {
          "base_uri": "https://localhost:8080/"
        },
        "id": "kNwqwv0jly9z",
        "outputId": "e4130f17-bc5d-4236-9fb8-8d1ec51585e7"
      },
      "outputs": [
        {
          "output_type": "stream",
          "name": "stdout",
          "text": [
            "Accuracy: 1.0000\n",
            "F1-score: 1.0000\n",
            "Precision: 1.0000\n",
            "Recall: 1.0000\n"
          ]
        }
      ],
      "source": [
        "# Оцените качество новой модели, используя метрики из пакета sklearn.metrics.\n",
        "# Указание: постарайтесь добиться точности в 100%!\n",
        "y_pred_new2 = model_new2.predict(x_test_transformed)\n",
        "\n",
        "accuracy_new2 = accuracy_score(y_test2, y_pred_new2)\n",
        "print(f\"Accuracy: {accuracy_new2:.4f}\")\n",
        "f1_score_new2 = f1_score(y_test2, y_pred_new2)\n",
        "print(f\"F1-score: {f1_score_new2:.4f}\")\n",
        "precision_new2 = precision_score(y_test2, y_pred_new2)\n",
        "print(f\"Precision: {precision_new2:.4f}\")\n",
        "recall_new2 = recall_score(y_test2, y_pred_new2)\n",
        "print(f\"Recall: {recall_new2:.4f}\")"
      ]
    },
    {
      "cell_type": "markdown",
      "metadata": {
        "id": "ksabhTPSly9z"
      },
      "source": [
        "## 3. Доп. задания (любое на выбор, опционально)"
      ]
    },
    {
      "cell_type": "markdown",
      "metadata": {
        "id": "sGauFxJMly9z"
      },
      "source": [
        "### 3.1 'Упрощение' логистической регрессии"
      ]
    },
    {
      "cell_type": "markdown",
      "metadata": {
        "id": "GcxIbgksly9z"
      },
      "source": [
        "Сложность: легко."
      ]
    },
    {
      "cell_type": "code",
      "execution_count": 105,
      "metadata": {
        "id": "DGiZC_HXly9z"
      },
      "outputs": [],
      "source": [
        "\"\"\"\n",
        "Модифицируйте класс логистической регрессии так, чтобы в нём не использовалась сигмоида.\n",
        "То есть вывод о предсказанном классе должен делаться на основе значений \"до сигмоиды\".\n",
        "Вспомогательная ссылка: https://en.wikipedia.org/wiki/Logit\n",
        "\"\"\"\n",
        "\n",
        "class LogisticRegression2:\n",
        "    def __init__(self, dim=2):\n",
        "        self.w = np.random.randn(dim, 1) / np.sqrt(dim)\n",
        "        self.b = np.zeros((1,))\n",
        "\n",
        "    def predict(self, x, probs=False):\n",
        "        x = x.dot(self.w) + self.b\n",
        "        #p = sigmoid(x)\n",
        "        if probs:\n",
        "            return x\n",
        "        return np.array(x > 0).astype('int32')\n",
        "\n",
        "    def fit(self, x, y, iters=1000, lr=0.01):\n",
        "        y = y.reshape(-1, 1)\n",
        "        for i in range(iters):\n",
        "            preds = self.predict(x, probs=True)\n",
        "            # градиентный спуск\n",
        "            gradient_w = np.mean(x.T.dot(preds - y), axis=1, keepdims=True)\n",
        "            gradient_b = np.mean(preds - y, axis=0)\n",
        "            self.w -= lr * gradient_w\n",
        "            self.b -= lr * gradient_b"
      ]
    },
    {
      "cell_type": "code",
      "execution_count": 106,
      "metadata": {
        "id": "GjO4Y9t5ly90"
      },
      "outputs": [],
      "source": [
        "# Перенесите обученные веса модели из пункта 1.3 в новую модель с модифицированным кодом\n",
        "model3 = LogisticRegression2(dim=x_train_balanced.shape[1])\n",
        "\n",
        "model3.w = model_new.w.copy()\n",
        "model3.b = model_new.b.copy()"
      ]
    },
    {
      "cell_type": "code",
      "execution_count": 107,
      "metadata": {
        "colab": {
          "base_uri": "https://localhost:8080/"
        },
        "id": "uQd134G8ly90",
        "outputId": "1dbb6279-ae03-4d74-84d5-bc5f2d334ddb"
      },
      "outputs": [
        {
          "output_type": "stream",
          "name": "stdout",
          "text": [
            "Предсказания совпадают: True\n",
            "Accuracy: 0.9455\n",
            "F1-score: 0.7143\n",
            "Precision: 0.6818\n",
            "Recall: 0.7500\n"
          ]
        }
      ],
      "source": [
        "# Убедитесь, что предсказания модели с модифицированными кодом совпадают с предсказаниями\n",
        "# модели из пункта 1.3\n",
        "y_pred3 = model3.predict(x_test)\n",
        "\n",
        "print(f\"Предсказания совпадают: {np.array_equal(y_pred3, y_pred_new)}\")\n",
        "\n",
        "accuracy3 = accuracy_score(y_test, y_pred3)\n",
        "print(f\"Accuracy: {accuracy3:.4f}\")\n",
        "f1_score3 = f1_score(y_test, y_pred3)\n",
        "print(f\"F1-score: {f1_score3:.4f}\")\n",
        "precision3 = precision_score(y_test, y_pred3)\n",
        "print(f\"Precision: {precision3:.4f}\")\n",
        "recall3 = recall_score(y_test, y_pred3)\n",
        "print(f\"Recall: {recall3:.4f}\")"
      ]
    },
    {
      "cell_type": "markdown",
      "metadata": {
        "id": "7afyB6Vbly91"
      },
      "source": [
        "### 3.2 'Обобщение' логистической регрессии"
      ]
    },
    {
      "cell_type": "markdown",
      "metadata": {
        "id": "gCdy1rf4ly92"
      },
      "source": [
        "Напишите многоклассовый классификатор. Обучите его на наборе данных ниже."
      ]
    },
    {
      "cell_type": "code",
      "execution_count": 108,
      "metadata": {
        "id": "G8zKvmGUly92"
      },
      "outputs": [],
      "source": [
        "x_train3, y_train3, x_test3, y_test3 = load_data('/content/drive/MyDrive/dataset3')"
      ]
    },
    {
      "cell_type": "markdown",
      "metadata": {
        "id": "RPv9p8J8ly92"
      },
      "source": [
        "<b>Ансамбль логистических регрессий.</b> Сложность: супергерой."
      ]
    },
    {
      "cell_type": "code",
      "execution_count": 109,
      "metadata": {
        "id": "_ZBQe6KXly93"
      },
      "outputs": [],
      "source": [
        "\"\"\"\n",
        "Напишите класс, что инкапсулирует в себе `C` логистических регрессий,\n",
        "где `C` - количество классов. i-ая логистическая регрессия производит\n",
        "бинарную классификацию вида: все остальные классы и i-ый класс.\n",
        "\"\"\"\n",
        "\n",
        "class MulticlassLogisticRegression:\n",
        "    def __init__(self, n_classes, dim):\n",
        "        pass\n",
        "\n",
        "    def predict(self, x):\n",
        "        # x - numpy массив размерности [N, dim]\n",
        "        # Возвращается массив целых чисел размерности [N],\n",
        "        # где i-ый элемент обозначает номер класса для\n",
        "        # i-го экземпляра данных в `x`.\n",
        "        pass\n",
        "\n",
        "    def fit(self, x, y):\n",
        "        pass"
      ]
    },
    {
      "cell_type": "code",
      "execution_count": 110,
      "metadata": {
        "id": "GT94z990ly93"
      },
      "outputs": [],
      "source": [
        "# Создайте и обучите написанный классификатор. Оцените точность модели.\n"
      ]
    },
    {
      "cell_type": "markdown",
      "metadata": {
        "id": "rHLOzsu9ly93"
      },
      "source": [
        "<b>Softmax классификатор.</b> Сложность: математический гений."
      ]
    },
    {
      "cell_type": "code",
      "execution_count": 111,
      "metadata": {
        "id": "AnnlnhExly95"
      },
      "outputs": [],
      "source": [
        "\"\"\"\n",
        "Напишите класс классификатора, основанного на функции Softmax.\n",
        "Алгоритм работы данного классификатора:\n",
        "x - вектор (экземпляр данных) размерности dim.\n",
        "W - матрица весов размерности [dim, n_classes].\n",
        "\n",
        "Ответ классификатора формируется как:\n",
        "logits = x * W - матричное умножение\n",
        "p = softmax(logits)\n",
        "class_id = argmax(p)\n",
        "\n",
        "Для данного классификатора требуется модифицировать алгоритм обучения в методе fit.\n",
        "\n",
        "Вспомогательные ресурсы:\n",
        "https://en.wikipedia.org/wiki/Softmax_function\n",
        "https://eli.thegreenplace.net/2016/the-softmax-function-and-its-derivative/\n",
        "\"\"\"\n",
        "\n",
        "class SoftmaxClassificator:\n",
        "    def __init__(self, n_classes, dim):\n",
        "        pass\n",
        "\n",
        "    def predict(self, x):\n",
        "        # x - numpy массив размерности [N, dim]\n",
        "        # Возвращается массив целых чисел размерности [N],\n",
        "        # где i-ый элемент обозначает номер класса для\n",
        "        # i-го экземпляра данных в `x`.\n",
        "        pass\n",
        "\n",
        "    def fit(self, x, y):\n",
        "        pass"
      ]
    },
    {
      "cell_type": "code",
      "execution_count": 112,
      "metadata": {
        "id": "1tm12Ypdly95"
      },
      "outputs": [],
      "source": [
        "# Создайте и обучите написанный классификатор. Оцените точность модели, посчитайте матрицу ошибок (выведите её с помощью matplotlib).\n"
      ]
    },
    {
      "cell_type": "code",
      "execution_count": 113,
      "metadata": {
        "id": "OSXTK2nCly96"
      },
      "outputs": [],
      "source": [
        "# Создайте и обучите написанный классификатор на наборе данных из задания 1 (опционально).\n",
        "# Оцените точность модели, посчитайте матрицу ошибок (выведите её с помощью matplotlib).\n"
      ]
    }
  ],
  "metadata": {
    "kernelspec": {
      "display_name": "Python 3 (ipykernel)",
      "language": "python",
      "name": "python3"
    },
    "language_info": {
      "codemirror_mode": {
        "name": "ipython",
        "version": 3
      },
      "file_extension": ".py",
      "mimetype": "text/x-python",
      "name": "python",
      "nbconvert_exporter": "python",
      "pygments_lexer": "ipython3",
      "version": "3.11.5"
    },
    "colab": {
      "provenance": []
    }
  },
  "nbformat": 4,
  "nbformat_minor": 0
}