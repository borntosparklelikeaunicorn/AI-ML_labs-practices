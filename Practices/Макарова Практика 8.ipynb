{
  "nbformat": 4,
  "nbformat_minor": 0,
  "metadata": {
    "colab": {
      "provenance": []
    },
    "kernelspec": {
      "name": "python3",
      "display_name": "Python 3"
    },
    "language_info": {
      "name": "python"
    }
  },
  "cells": [
    {
      "cell_type": "markdown",
      "source": [
        "*6132-010402D Макарова Мария*"
      ],
      "metadata": {
        "id": "F2MczLwA44pR"
      }
    },
    {
      "cell_type": "markdown",
      "source": [
        "1. Загрузить датасет WINE.\n",
        "2. Подготовить выборки: обучающую 70% и тестовую 30%.\n",
        "3. Для указанных в задании классификаторов с использованием обучающей выборки выбрать 2 компоненты вектора признаков (2 признака), обеспечивающие наилучшее качество классификации.\n",
        "4. Получить оценку качества классификации с использованием тестовой выборки.\n",
        "5. Сравнить выбранные признаки для каждого из классификаторов и сделать вывод.\n",
        "6. Название выбранные признаков для каждого классификатора, а также результаты классификации и вывод записать в качестве ответа в текстовое поле. В качестве ответа также разместить ipynb файл.\n",
        "\n",
        "Классификаторы: {\"SVM Sigmoid\", \"Quadratic Discriminant Analysis\", \"Nearest Neighbors 7\"}\n"
      ],
      "metadata": {
        "id": "MEe7f7ppozJq"
      }
    },
    {
      "cell_type": "code",
      "source": [
        "import numpy as np\n",
        "import pandas as pd\n",
        "from sklearn.datasets import load_wine\n",
        "from sklearn.model_selection import train_test_split, cross_val_score\n",
        "from sklearn.preprocessing import StandardScaler\n",
        "from sklearn.svm import SVC\n",
        "from sklearn.discriminant_analysis import QuadraticDiscriminantAnalysis\n",
        "from sklearn.neighbors import KNeighborsClassifier\n",
        "from sklearn.metrics import accuracy_score\n",
        "from itertools import combinations\n",
        "import warnings\n",
        "warnings.filterwarnings('ignore')\n",
        "\n",
        "#Загрузить датасет WINE.\n",
        "data = load_wine()\n",
        "X, y = data.data, data.target\n",
        "feature_names = data.feature_names\n",
        "\n",
        "#Подготовить выборки: обучающую 70% и тестовую 30%.\n",
        "X_train, X_test, y_train, y_test = train_test_split(X, y, test_size=0.3, random_state=42)\n",
        "\n",
        "scaler = StandardScaler()\n",
        "X_train = scaler.fit_transform(X_train)\n",
        "X_test = scaler.transform(X_test)\n",
        "\n",
        "classifiers = {\n",
        "    \"SVM Sigmoid\": SVC(kernel='sigmoid', random_state=42),\n",
        "    \"Quadratic Discriminant Analysis\": QuadraticDiscriminantAnalysis(),\n",
        "    \"Nearest Neighbors\": KNeighborsClassifier(n_neighbors=7)\n",
        "}\n",
        "\n",
        "#Для указанных в задании классификаторов с использованием обучающей выборки\n",
        "#выбрать 2 компоненты вектора признаков (2 признака), обеспечивающие наилучшее качество классификации.\n",
        "def select_best_features(classifier, X_train, y_train):\n",
        "    best_score = 0\n",
        "    best_features = None\n",
        "\n",
        "    for feature_pair in combinations(range(X_train.shape[1]), 2):\n",
        "        X_train_pair = X_train[:, feature_pair]\n",
        "\n",
        "        scores = cross_val_score(classifier, X_train_pair, y_train, cv=5, scoring='accuracy')\n",
        "        mean_score = scores.mean()\n",
        "\n",
        "        if mean_score > best_score:\n",
        "            best_score = mean_score\n",
        "            best_features = feature_pair\n",
        "\n",
        "    return best_features, best_score\n",
        "\n",
        "results = {}\n",
        "\n",
        "for clf_name, clf in classifiers.items():\n",
        "    best_features, best_score = select_best_features(clf, X_train, y_train)\n",
        "\n",
        "    X_train_best = X_train[:, best_features]\n",
        "    X_test_best = X_test[:, best_features]\n",
        "    clf.fit(X_train_best, y_train)\n",
        "\n",
        "    #Получить оценку качества классификации с использованием тестовой выборки.\n",
        "    y_pred = clf.predict(X_test_best)\n",
        "    test_accuracy = accuracy_score(y_test, y_pred)\n",
        "\n",
        "    results[clf_name] = {\n",
        "        \"Features\": [feature_names[best_features[0]], feature_names[best_features[1]]],\n",
        "        \"Test Accuracy\": test_accuracy\n",
        "    }\n",
        "\n",
        "for clf_name, result in results.items():\n",
        "    print(f\"Классификатор: {clf_name}\")\n",
        "    print(f\"Выбранные признаки: {result['Features']}\")\n",
        "    print(f\"Точность на тестовых данных: {result['Test Accuracy']:.4f}\")\n",
        "    print(\"-\" * 40)"
      ],
      "metadata": {
        "colab": {
          "base_uri": "https://localhost:8080/"
        },
        "id": "o3kAlyOQ26yt",
        "outputId": "0f410037-4820-4ef8-91e9-6776b2cd4c28"
      },
      "execution_count": 37,
      "outputs": [
        {
          "output_type": "stream",
          "name": "stdout",
          "text": [
            "Классификатор: SVM Sigmoid\n",
            "Выбранные признаки: ['alcohol', 'od280/od315_of_diluted_wines']\n",
            "Точность на тестовых данных: 0.8704\n",
            "----------------------------------------\n",
            "Классификатор: Quadratic Discriminant Analysis\n",
            "Выбранные признаки: ['flavanoids', 'color_intensity']\n",
            "Точность на тестовых данных: 0.9259\n",
            "----------------------------------------\n",
            "Классификатор: Nearest Neighbors\n",
            "Выбранные признаки: ['alcohol', 'flavanoids']\n",
            "Точность на тестовых данных: 0.9074\n",
            "----------------------------------------\n"
          ]
        }
      ]
    }
  ]
}