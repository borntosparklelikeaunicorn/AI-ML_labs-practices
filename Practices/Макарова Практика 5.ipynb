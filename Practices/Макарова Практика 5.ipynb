{
  "nbformat": 4,
  "nbformat_minor": 0,
  "metadata": {
    "colab": {
      "provenance": []
    },
    "kernelspec": {
      "name": "python3",
      "display_name": "Python 3"
    },
    "language_info": {
      "name": "python"
    }
  },
  "cells": [
    {
      "cell_type": "markdown",
      "source": [
        "*Макарова М.К. 6132-010402D*"
      ],
      "metadata": {
        "id": "OTPL_La3NDRy"
      }
    },
    {
      "cell_type": "markdown",
      "source": [
        "# Задание:\n",
        "1. Загрузить датасет WINE.\n",
        "2. Подготовить выборки: обучающую 70% и тестовую 30%.\n",
        "3. Построить указанные в задании классификаторы.\n",
        "4. Провести анализ главных компонент с числом компонент =2.\n",
        "5. Получить оценку качества классификации в новом пространстве признаков с использованием указанных классификаторов.\n",
        "6. Провести линейный дискриминантный анализ путем построения одного признака.\n",
        "7. Получить оценку качества классификации для построенного признака с использованием указанных классификаторов.\n",
        "8. Сравнить результаты классификации в п5 и п 7 с лучшей парой признаков и классификатором из Задания 4.\n",
        "9. Сделать вывод.\n",
        "10. Все результаты классификации и вывод записать в качестве ответа в текстовое поле. В качестве ответа также разместить ipynb файл.\n",
        "\n",
        "**Классификатор 1 - К-ближайших соседей (К=3), Классификатор 2 - Байес; Признаки: flavanoids , proanthocyanins , nonflavanoid_phenols**"
      ],
      "metadata": {
        "id": "dAIxI8uOMwie"
      }
    },
    {
      "cell_type": "code",
      "execution_count": 72,
      "metadata": {
        "id": "M1uqtqJLKeHu"
      },
      "outputs": [],
      "source": [
        "import numpy as np\n",
        "import pandas as pd\n",
        "from sklearn.datasets import load_wine\n",
        "from sklearn.model_selection import train_test_split\n",
        "from sklearn.preprocessing import StandardScaler\n",
        "from sklearn.neighbors import KNeighborsClassifier\n",
        "from sklearn.naive_bayes import GaussianNB\n",
        "from sklearn.metrics import accuracy_score\n",
        "from sklearn.decomposition import PCA\n",
        "from sklearn.discriminant_analysis import LinearDiscriminantAnalysis as LDA"
      ]
    },
    {
      "cell_type": "code",
      "source": [
        "#Загрузка датасета WINE и выбор признаков согласно варианту\n",
        "wine_data = load_wine(as_frame=True)\n",
        "X = pd.DataFrame(wine_data.data, columns=wine_data.feature_names)\n",
        "y = wine_data.target"
      ],
      "metadata": {
        "id": "C-0_9NbgN52p"
      },
      "execution_count": 73,
      "outputs": []
    },
    {
      "cell_type": "code",
      "source": [
        "#Подготовка выборки: обучающая 70% и тестовая 30%\n",
        "X_train, X_test, y_train, y_test = train_test_split(X, y, test_size=0.3, random_state=42, )"
      ],
      "metadata": {
        "id": "Ep1ZN0RYN9y5"
      },
      "execution_count": 53,
      "outputs": []
    },
    {
      "cell_type": "code",
      "source": [
        "#Нормализация данных\n",
        "scaler = StandardScaler()\n",
        "X_train_scaled = scaler.fit_transform(X_train)\n",
        "X_test_scaled = scaler.transform(X_test)"
      ],
      "metadata": {
        "id": "Z_ceyS7FTpUw"
      },
      "execution_count": 54,
      "outputs": []
    },
    {
      "cell_type": "code",
      "source": [
        "#Построение указанных в задании классификаторов\n",
        "knn = KNeighborsClassifier(n_neighbors=3)\n",
        "knn.fit(X_train_scaled, y_train)\n",
        "y_pred_knn = knn.predict(X_test_scaled)\n",
        "accuracy_knn = accuracy_score(y_test, y_pred_knn)\n",
        "\n",
        "nb = GaussianNB()\n",
        "nb.fit(X_train_scaled, y_train)\n",
        "y_pred_nb = nb.predict(X_test_scaled)\n",
        "accuracy_nb = accuracy_score(y_test, y_pred_nb)\n",
        "\n",
        "print('Accuracy KNN:', accuracy_knn)\n",
        "print('Accuracy NB:', accuracy_nb)"
      ],
      "metadata": {
        "colab": {
          "base_uri": "https://localhost:8080/"
        },
        "id": "0d1V1lVpTwr1",
        "outputId": "07da39f6-a5d3-41cb-b1a4-2d25ae595b17"
      },
      "execution_count": 62,
      "outputs": [
        {
          "output_type": "stream",
          "name": "stdout",
          "text": [
            "Accuracy KNN: 0.9629629629629629\n",
            "Accuracy NB: 1.0\n"
          ]
        }
      ]
    },
    {
      "cell_type": "code",
      "source": [
        "#Проведение анализа главных компонент с числом компонент =2\n",
        "pca = PCA(n_components=2)\n",
        "X_train_pca = pca.fit_transform(X_train_scaled)\n",
        "X_test_pca = pca.transform(X_test_scaled)\n",
        "\n",
        "knn_pca = KNeighborsClassifier(n_neighbors=3)\n",
        "knn_pca.fit(X_train_pca, y_train)\n",
        "y_pred_knn_pca = knn_pca.predict(X_test_pca)\n",
        "accuracy_knn_pca = accuracy_score(y_test, y_pred_knn_pca)\n",
        "\n",
        "nb_pca = GaussianNB()\n",
        "nb_pca.fit(X_train_pca, y_train)\n",
        "y_pred_nb_pca = nb_pca.predict(X_test_pca)\n",
        "accuracy_nb_pca = accuracy_score(y_test, y_pred_nb_pca)\n",
        "\n",
        "print('Accuracy KNN_PCA:', accuracy_knn_pca)\n",
        "print('Accuracy NB_PCA:', accuracy_nb_pca)"
      ],
      "metadata": {
        "colab": {
          "base_uri": "https://localhost:8080/"
        },
        "id": "4OuJv6eBUQ8-",
        "outputId": "93659670-74ce-4101-e32c-5e3258d1b37c"
      },
      "execution_count": 74,
      "outputs": [
        {
          "output_type": "stream",
          "name": "stdout",
          "text": [
            "Accuracy KNN_PCA: 0.9814814814814815\n",
            "Accuracy NB_PCA: 0.9814814814814815\n"
          ]
        }
      ]
    },
    {
      "cell_type": "code",
      "source": [
        "#Проведение линейного дискриминантного анализа путем построения одного признака\n",
        "lda = LDA(n_components=1)\n",
        "X_train_lda = lda.fit_transform(X_train_scaled, y_train)\n",
        "X_test_lda = lda.transform(X_test_scaled)\n",
        "\n",
        "knn_lda = KNeighborsClassifier(n_neighbors=3)\n",
        "knn_lda.fit(X_train_lda, y_train)\n",
        "y_pred_knn_lda = knn_lda.predict(X_test_lda)\n",
        "accuracy_knn_lda = accuracy_score(y_test, y_pred_knn_lda)\n",
        "\n",
        "nb_lda = GaussianNB()\n",
        "nb_lda.fit(X_train_lda, y_train)\n",
        "y_pred_nb_lda = nb_lda.predict(X_test_lda)\n",
        "accuracy_nb_lda = accuracy_score(y_test, y_pred_nb_lda)\n",
        "\n",
        "print('Accuracy KNN_LDA:', accuracy_knn_lda)\n",
        "print('Accuracy NB_LDA:', accuracy_nb_lda)"
      ],
      "metadata": {
        "colab": {
          "base_uri": "https://localhost:8080/"
        },
        "id": "K9URi7vyYCHs",
        "outputId": "0a316675-b08b-4b30-c134-81657205c91b"
      },
      "execution_count": 75,
      "outputs": [
        {
          "output_type": "stream",
          "name": "stdout",
          "text": [
            "Accuracy KNN_LDA: 0.9074074074074074\n",
            "Accuracy NB_LDA: 0.9074074074074074\n"
          ]
        }
      ]
    },
    {
      "cell_type": "code",
      "source": [
        "feature_pairs = [('flavanoids', 'proanthocyanins'),\n",
        "                 ('flavanoids', 'nonflavanoid_phenols'),\n",
        "                 ('proanthocyanins', 'nonflavanoid_phenols')]\n",
        "\n",
        "def process_pair(pair):\n",
        "    print(f\"\\nПара признаков: {pair}\")\n",
        "\n",
        "    X_pair = X[list(pair)]\n",
        "\n",
        "    X_train, X_test, y_train, y_test = train_test_split(X_pair, y, test_size=0.3, random_state=42)\n",
        "\n",
        "    scaler = StandardScaler()\n",
        "    X_train_scaled = scaler.fit_transform(X_train)\n",
        "    X_test_scaled = scaler.transform(X_test)\n",
        "\n",
        "    knn = KNeighborsClassifier(n_neighbors=3)\n",
        "    knn.fit(X_train_scaled, y_train)\n",
        "    y_pred_knn = knn.predict(X_test_scaled)\n",
        "    accuracy_knn = accuracy_score(y_test, y_pred_knn)\n",
        "\n",
        "    nb = GaussianNB()\n",
        "    nb.fit(X_train_scaled, y_train)\n",
        "    y_pred_nb = nb.predict(X_test_scaled)\n",
        "    accuracy_nb = accuracy_score(y_test, y_pred_nb)\n",
        "\n",
        "    print('Accuracy KNN:', accuracy_knn)\n",
        "    print('Accuracy NB:', accuracy_nb)\n",
        "\n",
        "    #Анализ главных компонент с числом компонент = 2\n",
        "    pca = PCA(n_components=2)\n",
        "    X_train_pca = pca.fit_transform(X_train_scaled)\n",
        "    X_test_pca = pca.transform(X_test_scaled)\n",
        "\n",
        "    knn.fit(X_train_pca, y_train)\n",
        "    y_pred_knn_pca = knn.predict(X_test_pca)\n",
        "    accuracy_knn_pca = accuracy_score(y_test, y_pred_knn_pca)\n",
        "\n",
        "    nb.fit(X_train_pca, y_train)\n",
        "    y_pred_nb_pca = nb.predict(X_test_pca)\n",
        "    accuracy_nb_pca = accuracy_score(y_test, y_pred_nb_pca)\n",
        "\n",
        "    print('Accuracy KNN_PCA:', accuracy_knn_pca)\n",
        "    print('Accuracy NB_PCA:', accuracy_nb_pca)\n",
        "\n",
        "    #Линейный дискриминантный анализ с одной компонентой\n",
        "    lda = LDA(n_components=1)\n",
        "    X_train_lda = lda.fit_transform(X_train_scaled, y_train)\n",
        "    X_test_lda = lda.transform(X_test_scaled)\n",
        "\n",
        "    knn.fit(X_train_lda, y_train)\n",
        "    y_pred_knn_lda = knn.predict(X_test_lda)\n",
        "    accuracy_knn_lda = accuracy_score(y_test, y_pred_knn_lda)\n",
        "\n",
        "    nb.fit(X_train_lda, y_train)\n",
        "    y_pred_nb_lda = nb.predict(X_test_lda)\n",
        "    accuracy_nb_lda = accuracy_score(y_test, y_pred_nb_lda)\n",
        "\n",
        "    print('Accuracy KNN_LDA:', accuracy_knn_lda)\n",
        "    print('Accuracy NB_LDA:', accuracy_nb_lda)\n",
        "\n",
        "for pair in feature_pairs:\n",
        "    process_pair(pair)"
      ],
      "metadata": {
        "colab": {
          "base_uri": "https://localhost:8080/"
        },
        "id": "W3uB1Z2oc0U8",
        "outputId": "703a54f7-315b-4df6-8b99-4e466ebcc4c8"
      },
      "execution_count": 76,
      "outputs": [
        {
          "output_type": "stream",
          "name": "stdout",
          "text": [
            "\n",
            "Пара признаков: ('flavanoids', 'proanthocyanins')\n",
            "Accuracy KNN: 0.7592592592592593\n",
            "Accuracy NB: 0.7407407407407407\n",
            "Accuracy KNN_PCA: 0.7592592592592593\n",
            "Accuracy NB_PCA: 0.7407407407407407\n",
            "Accuracy KNN_LDA: 0.7592592592592593\n",
            "Accuracy NB_LDA: 0.8518518518518519\n",
            "\n",
            "Пара признаков: ('flavanoids', 'nonflavanoid_phenols')\n",
            "Accuracy KNN: 0.7222222222222222\n",
            "Accuracy NB: 0.8333333333333334\n",
            "Accuracy KNN_PCA: 0.7222222222222222\n",
            "Accuracy NB_PCA: 0.8148148148148148\n",
            "Accuracy KNN_LDA: 0.7037037037037037\n",
            "Accuracy NB_LDA: 0.8148148148148148\n",
            "\n",
            "Пара признаков: ('proanthocyanins', 'nonflavanoid_phenols')\n",
            "Accuracy KNN: 0.4444444444444444\n",
            "Accuracy NB: 0.6111111111111112\n",
            "Accuracy KNN_PCA: 0.4444444444444444\n",
            "Accuracy NB_PCA: 0.5740740740740741\n",
            "Accuracy KNN_LDA: 0.4074074074074074\n",
            "Accuracy NB_LDA: 0.5925925925925926\n"
          ]
        }
      ]
    }
  ]
}